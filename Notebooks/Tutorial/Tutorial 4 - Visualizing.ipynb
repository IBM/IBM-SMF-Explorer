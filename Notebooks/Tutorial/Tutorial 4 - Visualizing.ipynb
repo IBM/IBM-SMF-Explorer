{
  "nbformat": 4,
  "nbformat_minor": 4,
  "metadata": {
    "kernelspec": {
      "display_name": "Python 3 (ipykernel)",
      "language": "python",
      "name": "python3"
    }
  },
  "cells": [
    {
      "metadata": {},
      "source": [
        "# Tutorial 4 - Visualization\n",
        "\n",
        "\n",
        "Welcome to the  *IBM SMF Explorer* Visualization Tutorial.\n",
        "This Tutorial provides examples and inspirations on how to create helpful visualizations using SMF data.\n",
        "\n",
        "> Examples are based on the engine utilization data taken from SMF72 Subtype 3\n",
        "\n"
      ],
      "cell_type": "markdown"
    },
    {
      "metadata": {},
      "source": [
        "## Getting started\n",
        "\n",
        "Initialize a Context for the dataset that you want to work with. Note, *plotly-express* package is imported for plotting the data."
      ],
      "cell_type": "markdown"
    },
    {
      "metadata": {
        "autorun": false
      },
      "source": [
        "# imports\n",
        "import smfexplorer\n",
        "from smfexplorer.fields import SMF72S3\n",
        "from smfexplorer import names\n",
        "from plotly import express as px\n",
        "import pandas as pd\n",
        "\n",
        "DATASET = \"YOUR.SMF.DATA\"\n",
        "\n",
        "# data fetching\n",
        "ctx = smfexplorer.new_context(DATASET)\n",
        "df = ctx.samples.smf_72_03_sample().run()"
      ],
      "cell_type": "code",
      "outputs": [],
      "execution_count": null
    },
    {
      "metadata": {},
      "source": [
        " ## Prepare your data"
      ],
      "cell_type": "markdown"
    },
    {
      "metadata": {},
      "source": [
        "Before plotting, make sure that the data is meaningful and clean. If your analysis does not require Report Class data, make sure to sort it out: "
      ],
      "cell_type": "markdown"
    },
    {
      "metadata": {
        "autorun": false
      },
      "source": [
        "df = df[~df[\"is_report_class\"]].drop(\"is_report_class\", axis=1)\n",
        "\n",
        "# create a df subset:\n",
        "df = df[\n",
        "    [\n",
        "        \"timestamp\",\n",
        "        \"sid\",\n",
        "        \"utilization_cp\",\n",
        "        \"utilization_ziip\",\n",
        "        \"utilization_zaap\",\n",
        "        \"utilization_ziip_on_cp\",\n",
        "        \"utilization_total\",\n",
        "    ]\n",
        "]"
      ],
      "cell_type": "code",
      "outputs": [],
      "execution_count": null
    },
    {
      "metadata": {},
      "source": [
        "Consider data aggregation for meaningful visualization. In the following example, we group values by the *timestamp* and *sid* fields:"
      ],
      "cell_type": "markdown"
    },
    {
      "metadata": {
        "autorun": false
      },
      "source": [
        "df = df.groupby([\"timestamp\", \"sid\"], as_index=False).sum()"
      ],
      "cell_type": "code",
      "outputs": [],
      "execution_count": null
    },
    {
      "metadata": {},
      "source": [
        "Rounding long decimals makes your data more readable and easy to visualize"
      ],
      "cell_type": "markdown"
    },
    {
      "metadata": {
        "autorun": false
      },
      "source": [
        "df = df.round(1)"
      ],
      "cell_type": "code",
      "outputs": [],
      "execution_count": null
    },
    {
      "metadata": {},
      "source": [
        "Below we check whether workload was running on all processors. If some processor types were not engaged, they are excluded from the report."
      ],
      "cell_type": "markdown"
    },
    {
      "metadata": {
        "autorun": false
      },
      "source": [
        "utilization_fields = [\n",
        "    SMF72S3.utilization_cp,\n",
        "    SMF72S3.utilization_ziip,\n",
        "    SMF72S3.utilization_zaap,\n",
        "    SMF72S3.utilization_ziip_on_cp,\n",
        "    SMF72S3.utilization_total,\n",
        "]\n",
        "display_fields = []\n",
        "for field in utilization_fields:\n",
        "    if df[names(field)].sum() > 0:\n",
        "        display_fields.append(field)"
      ],
      "cell_type": "code",
      "outputs": [],
      "execution_count": null
    },
    {
      "metadata": {},
      "source": [
        "## Plot\n",
        "\n",
        "> we recommend to start small and then extend your plots."
      ],
      "cell_type": "markdown"
    },
    {
      "metadata": {},
      "source": [
        "For this analysis, we create a line plot that shows the system utilization percentage for each processor type over time. To create visualization, we use plotly-express package, the documentation can be found [here](https://plotly.com/python/plotly-express/).\n",
        "    "
      ],
      "cell_type": "markdown"
    },
    {
      "metadata": {
        "autorun": false
      },
      "source": [
        "plot = px.line(\n",
        "    df, x=names(SMF72S3.timestamp), y=names(display_fields), title=\"System Utilisation\"\n",
        ")\n",
        "\n",
        "display(plot)"
      ],
      "cell_type": "code",
      "outputs": [],
      "execution_count": null
    },
    {
      "metadata": {},
      "source": [
        "### Tooltip and Labels\n",
        "\n",
        "*Data Plot Tooltip*  appears when you hover on a data plot. The information shown in a tooltip can be adjusted. Consider using ```hover_name``` and ```hover_data``` attributes. For more inspiration visit [hover-text-and-formatting documentatoin](https://plotly.com/python/hover-text-and-formatting/#hovermode-x-or-y). \n",
        "\n",
        "\n",
        "If you use Plotly Express, axes and legend are automatically labelled, however, as in example above, labelling does not always provide meaningful information. We recommend overriding it using the ```labels``` keyword argument. \n"
      ],
      "cell_type": "markdown"
    },
    {
      "metadata": {
        "autorun": false
      },
      "source": [
        "# adjust your tooltip\n",
        "plot_hover = px.line(\n",
        "    df,\n",
        "    x=names(SMF72S3.timestamp),\n",
        "    y=names(display_fields),\n",
        "    title=\"System Utilisation\",\n",
        "    hover_name=names(SMF72S3.sid),\n",
        "    hover_data={\n",
        "        names(SMF72S3.timestamp): False,  # remove timestamp from hover data\n",
        "        \"value\": \":.0f\",  # format utilization value\n",
        "    },\n",
        "    labels={  # labels for axes\n",
        "        \"value\": \"Utilization %\",\n",
        "        \"variable\": \"Type\",\n",
        "        names(SMF72S3.timestamp): \"Time\",\n",
        "    },\n",
        ")\n",
        "\n",
        "display(plot_hover)"
      ],
      "cell_type": "code",
      "outputs": [],
      "execution_count": null
    },
    {
      "metadata": {},
      "source": [
        "### Color schemes and Legend \n",
        "\n",
        "Working with big amounts of data you may consider using diverse colouring schemes. Plotly provides you with a verity of default [color sequences](https://plotly.com/python/discrete-color/). You can choose built-in qualitative color sequences from ```px.colors.qualitative``` module or define your own."
      ],
      "cell_type": "markdown"
    },
    {
      "metadata": {
        "autorun": false
      },
      "source": [
        "plot = px.line(\n",
        "    df,\n",
        "    x=names(SMF72S3.timestamp),\n",
        "    y=names(display_fields),\n",
        "    color_discrete_sequence=px.colors.qualitative.Prism,  # 10 colors\n",
        "    title=\"System Utilisation\",\n",
        "    labels={\n",
        "        \"value\": \"Utilization %\",\n",
        "        \"variable\": \"Type\",\n",
        "        names(SMF72S3.timestamp): \"Time\",\n",
        "    },\n",
        ")\n",
        "\n",
        "display(plot)"
      ],
      "cell_type": "code",
      "outputs": [],
      "execution_count": null
    },
    {
      "metadata": {},
      "source": [
        "You can define your colors as well, see example below:"
      ],
      "cell_type": "markdown"
    },
    {
      "metadata": {
        "autorun": false
      },
      "source": [
        "MY_COLORS = [\n",
        "    \"#520408\",\n",
        "    \"#878d96\",\n",
        "    \"#31135e\",\n",
        "    \"#fa4d56\",\n",
        "    \"#ee5396\",\n",
        "    \"#a56eff\",\n",
        "    \"#0f62fe\",\n",
        "    \"#0072c3\",\n",
        "    \"#007d79\",\n",
        "    \"#044317\",\n",
        "]\n",
        "plot = px.line(\n",
        "    df,\n",
        "    x=names(SMF72S3.timestamp),\n",
        "    y=names(display_fields),\n",
        "    color_discrete_sequence=MY_COLORS,\n",
        "    title=\"System Utilisation\",\n",
        "    labels={\n",
        "        \"value\": \"Utilization %\",\n",
        "        \"variable\": \"Type\",\n",
        "        names(SMF72S3.timestamp): \"Time\",\n",
        "    },\n",
        ")\n",
        "\n",
        "display(plot)"
      ],
      "cell_type": "code",
      "outputs": [],
      "execution_count": null
    },
    {
      "metadata": {},
      "source": [
        "You can hide and show legend. Sometimes, when two plots share the same legend, you may want to hide one using ```layout.showlegend``` attribute. Moreover, you can position legend within or outside plot area. "
      ],
      "cell_type": "markdown"
    },
    {
      "metadata": {
        "autorun": false
      },
      "source": [
        "plot = px.line(\n",
        "    df,\n",
        "    x=names(SMF72S3.timestamp),\n",
        "    y=names(SMF72S3.utilization_cp),\n",
        "    title=\"CP Utilisation\",\n",
        "    labels={\n",
        "        \"utilization_cp\": \"Utilization %\",\n",
        "        \"variable\": \"Type\",\n",
        "        names(SMF72S3.timestamp): \"Time\",\n",
        "    },\n",
        ")\n",
        "plot.update_layout(showlegend=False)  # hide legend\n",
        "\n",
        "display(plot)\n",
        "\n",
        "plot_2 = px.line(\n",
        "    df,\n",
        "    x=names(SMF72S3.timestamp),\n",
        "    y=names(display_fields),\n",
        "    title=\"System Utilisation\",\n",
        "    labels={\n",
        "        \"value\": \"Utilization %\",\n",
        "        \"variable\": \"Type\",\n",
        "        names(SMF72S3.timestamp): \"Time\",\n",
        "    },\n",
        ")\n",
        "plot_2.update_layout(\n",
        "    legend=dict(\n",
        "        orientation=\"h\",  # horizontal positioning\n",
        "        yanchor=\"bottom\",\n",
        "        y=-0.8,  # add some spaces\n",
        "        x=0.3,\n",
        "    )\n",
        ")\n",
        "display(plot_2)"
      ],
      "cell_type": "code",
      "outputs": [],
      "execution_count": null
    },
    {
      "metadata": {},
      "source": [
        "####  Interacting with Legend and Axes\n",
        "\n",
        "- Click on a legend item to hide or show its trace\n",
        "- Double-click on legend to reset the selection\n",
        "- Drag the mouse diagonally to zoom to the resulting box\n",
        "- Drag the mouse vertically to zoom to this part of the y axis\n",
        "- Drag the mouse horizontally to zoom to this part of the x axis\n",
        "- Double-click within chart to reset the zoom\n",
        "\n",
        "\n",
        "See [documentation](https://plotly.com/python/legend/) for more examples."
      ],
      "cell_type": "markdown"
    },
    {
      "metadata": {},
      "source": [
        "### Create Bar Chart\n",
        "\n",
        "to get an overview of your data or to analyze the ratio, you may consider using bar- or histogram- plots.  "
      ],
      "cell_type": "markdown"
    },
    {
      "metadata": {
        "autorun": false
      },
      "source": [
        "hist = px.histogram(\n",
        "    df,\n",
        "    x=\"timestamp\",\n",
        "    y=[\"utilization_cp\", \"utilization_ziip\"],\n",
        "    title=\"Ratio of CP to zIIP Utilization over time\",\n",
        "    barmode=\"group\",\n",
        "    labels={\n",
        "        \"value\": \"Utilization %\",\n",
        "        \"variable\": \"Type\",\n",
        "        names(SMF72S3.timestamp): \"Time\",\n",
        "    },\n",
        ")\n",
        "display(hist)\n",
        "\n",
        "# to get an overview, aggregate your data\n",
        "\n",
        "df_aggr = df.agg(\"mean\", numeric_only=True)  # aggregation\n",
        "df_aggr = pd.DataFrame(df_aggr).T.round(1)  # transpose your df\n",
        "\n",
        "hist_aggr = px.bar(\n",
        "    df_aggr,\n",
        "    x=\"utilization_total\",\n",
        "    y=[\"utilization_cp\", \"utilization_ziip\"],\n",
        "    title=\"Ratio of CP to zIIP Utilization\",\n",
        "    labels={\n",
        "        \"value\": \"Utilization %\",\n",
        "        \"variable\": \"Type\",\n",
        "    },\n",
        ")\n",
        "hist_aggr.update_layout(xaxis={\"visible\": False})  # hide x-axis\n",
        "display(hist_aggr)"
      ],
      "cell_type": "code",
      "outputs": [],
      "execution_count": null
    }
  ]
}
