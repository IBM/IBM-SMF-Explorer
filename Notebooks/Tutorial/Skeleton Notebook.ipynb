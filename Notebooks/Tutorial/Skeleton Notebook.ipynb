{
  "nbformat": 4,
  "nbformat_minor": 4,
  "metadata": {
    "kernelspec": {
      "display_name": "Python 3 (ipykernel)",
      "language": "python",
      "name": "python3"
    }
  },
  "cells": [
    {
      "metadata": {},
      "source": [
        "# Skeleton Notebook\n",
        "\n",
        "This Jupyter Notebook serves as a starting point for your future Notebooks. You can copy this Notebook to your directory, rename it, and extend it. "
      ],
      "cell_type": "markdown"
    },
    {
      "metadata": {},
      "source": [
        "# imports\n",
        "import smfexplorer\n",
        "from smfexplorer.fields import SMF70S1, SMF72S3  # change or add fields of interest here\n",
        "from smfexplorer import names\n",
        "\n",
        "from plotly import express as px  # for visualization\n",
        "\n",
        "# for data processing\n",
        "import pandas as pd\n",
        "import numpy as np"
      ],
      "cell_type": "code",
      "outputs": [],
      "execution_count": null
    },
    {
      "metadata": {},
      "source": [
        "# define Context\n",
        "DATASET = \"YOUR.SMF.DATA\"\n",
        "ctx = smfexplorer.new_context(DATASET)"
      ],
      "cell_type": "code",
      "outputs": [],
      "execution_count": null
    },
    {
      "metadata": {},
      "source": [
        "# ------------------------------------------------#\n",
        "# Fetch the data  (select one of 3 methods)\n",
        "# ------------------------------------------------#\n",
        "\n",
        "# 1. using request() method\n",
        "df = ctx.request([RECORD.FIELD1, RECORD.FIELD2]).run()  # add fields\n",
        "# example: df = ctx.request([SMF70S1.timestamp, SMF70S1.sid]).run()\n",
        "\n",
        "# 2. using samples()\n",
        "df = ctx.samples.SAMPLENAME().run()  # add sample name\n",
        "# example: df = ctx.samples.lpar_information().run()\n",
        "\n",
        "# 3. using samples() with display\n",
        "df = ctx.samples.SAMPLENAME().run(\n",
        "    display=[RECORD.FIELD1]\n",
        ")  # add sample name and field name in display\n",
        "# example: df = ctx.samples.lpar_information().run(display=[SMF70S1.capactiy_group_member])\n",
        "\n",
        "\n",
        "# if you want to reduce the data before fetching, you can use where():\n",
        "df = ctx.samples.SAMPLENAME().where((CONDITION1) & (CONDITION2)).run()\n",
        "# example: ctx.samples.lpar_information().where((SMF70S1.lpar_name == SMF70S1.system_name) & (SMF70S1.lpar_cpu_count > 5)).run()"
      ],
      "cell_type": "code",
      "outputs": [],
      "execution_count": null
    },
    {
      "metadata": {},
      "source": [
        "# display the data\n",
        "display(df)"
      ],
      "cell_type": "code",
      "outputs": [],
      "execution_count": null
    },
    {
      "metadata": {},
      "source": [
        "# -----------#\n",
        "# Filter\n",
        "# -----------#\n",
        "\n",
        "# filter out date-time range\n",
        "df = df.loc[\n",
        "    (df[\"timestamp\"] > \"YYYY-MM-DD HH:MM:SS\")\n",
        "    & (df[\"timestamp\"] < \"YYYY-MM-DD HH:MM:SS\")\n",
        "]\n",
        "\n",
        "# Get all Systems used in the dump\n",
        "systems = df[\n",
        "    names(RECORD.sid)\n",
        "].unique()  # insted of sid you can use another field, to get at overview (e.g., lpar_name, cpu_type, etc.)\n",
        "print(systems)\n",
        "\n",
        "# Select one system\n",
        "df = df[df[names(RECORD.sid)] == \"SYSTEM_NAME\"]\n",
        "\n",
        "# Calculate sum or average\n",
        "# get the average of FIELD1\n",
        "avg = df[names(RECORD.FIELD1)].mean()\n",
        "print(\"Average FIELD1 is \", avg)\n",
        "\n",
        "# get the sum of FIELD1\n",
        "sum_f = df[names(RECORD.FIELD1)].sum()\n",
        "print(\"Sum FIELD1 is \", sum_f)"
      ],
      "cell_type": "code",
      "outputs": [],
      "execution_count": null
    },
    {
      "metadata": {},
      "source": [
        "# -----------#\n",
        "# Plot\n",
        "# -----------#\n",
        "\n",
        "# plot your data\n",
        "# line plot\n",
        "plot = px.line(\n",
        "    df,\n",
        "    x=names(RECORD.timestamp),  # usually x axis depics time\n",
        "    y=names(RECORD.FIELD1),\n",
        "    title=\"TITLE\",\n",
        "    labels={\n",
        "        \"initial_value\": \"Renamed value\",\n",
        "        \"initial_value2\": \"Second renamed value\",\n",
        "        names(RECORD.timestamp): \"Time\",\n",
        "    },\n",
        ")\n",
        "display(plot)"
      ],
      "cell_type": "code",
      "outputs": [],
      "execution_count": null
    },
    {
      "metadata": {},
      "source": [
        "# create bar-chart\n",
        "bar = px.bar(\n",
        "    df,\n",
        "    x=\"timestamp\",\n",
        "    y=[\"FIELD1\", \"FIELD2\"],\n",
        "    title=\"Ratio of FIELD1 and FIELD2 over time\",\n",
        "    labels={\n",
        "        \"initial_value\": \"Renamed value\",\n",
        "        \"initial_value2\": \"Second renamed value\",\n",
        "        names(RECORD.timestamp): \"Time\",\n",
        "    },\n",
        ")\n",
        "display(bar)"
      ],
      "cell_type": "code",
      "outputs": [],
      "execution_count": null
    }
  ]
}
