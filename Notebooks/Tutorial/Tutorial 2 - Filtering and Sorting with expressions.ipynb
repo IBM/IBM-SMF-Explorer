{
  "nbformat": 4,
  "nbformat_minor": 4,
  "metadata": {
    "kernelspec": {
      "display_name": "Python 3 (ipykernel)",
      "language": "python",
      "name": "python3"
    }
  },
  "cells": [
    {
      "metadata": {},
      "source": [
        "# Tutorial 2 - Filtering and Sorting with Expressions\n",
        "\n",
        "Welcome to the Filtering & Sorting Tutorial.\n",
        "You will learn how to filter and sort requested data with the help of *IBM SMF Explorer*.\n"
      ],
      "cell_type": "markdown"
    },
    {
      "metadata": {},
      "source": [
        "## Getting started\n",
        "\n",
        "Initialize a Context for the dataset that you want to work with."
      ],
      "cell_type": "markdown"
    },
    {
      "metadata": {},
      "source": [
        "import smfexplorer\n",
        "from datetime import datetime, time\n",
        "from smfexplorer.fields import SMF70S1\n",
        "\n",
        "DATASET = \"YOUR.SMF.DATA\"\n",
        "\n",
        "ctx = smfexplorer.new_context(DATASET)"
      ],
      "cell_type": "code",
      "outputs": [],
      "execution_count": null
    },
    {
      "metadata": {},
      "source": [
        "## Filtering \n",
        "\n",
        "The *IBM SMF Explorer* uses the built-in operators of python for filtering purposes.\n",
        "\n",
        "As discussed in the previous tutorial (see *Tutorial 1 - Basics*), we provide functions that can be used in a request chain. \n",
        "One such function is ``where()``, which can be used to filter the returned data.\n",
        "The ``where()`` function is given an expression which uses the python operators.\n",
        "\n",
        "> **Note**: you can also do filtering using pandas (see [pandas documentation](https://pandas.pydata.org/docs/) and *Tutorial 3* for more exmaples).\n",
        "> The advantage of using the ``where()`` method is that the *IBM SMF Explorer* can use the provided information to reduce the amount of data that is extracted from the underlying dataset.\n",
        "> Consequently, performance is increased and network load reduced."
      ],
      "cell_type": "markdown"
    },
    {
      "metadata": {},
      "source": [
        "Expressions available:\n",
        "\n",
        "Expression| Description\n",
        ":---|:---\n",
        "``>`` | Greater than \n",
        "``>=`` | Greater than or equal to \n",
        "``<`` | Less than \n",
        "``<=`` | Less than or equal to \n",
        "``==`` | Equal to \n",
        "``!=`` | Not equal to \n"
      ],
      "cell_type": "markdown"
    },
    {
      "metadata": {},
      "source": [
        "In the following example, we use ``where()`` to narrow down our result to the cases where a LPAR has more than one processor available: "
      ],
      "cell_type": "markdown"
    },
    {
      "metadata": {},
      "source": [
        "# fetching full data\n",
        "df_not_filtered = ctx.samples.lpar_information().run()\n",
        "display(df_not_filtered)\n",
        "\n",
        "# fetching reduced data\n",
        "df_filtered = ctx.samples.lpar_information().where(SMF70S1.lpar_cpu_count > 1).run()\n",
        "display(df_filtered)"
      ],
      "cell_type": "code",
      "outputs": [],
      "execution_count": null
    },
    {
      "metadata": {},
      "source": [
        "With *IBM SMF Explorer* we can compare fields as well:"
      ],
      "cell_type": "markdown"
    },
    {
      "metadata": {},
      "source": [
        "# fetching reduced data based on field comparison\n",
        "df_fields = (\n",
        "    ctx.samples.lpar_information().where(SMF70S1.lpar_name == SMF70S1.system_name).run()\n",
        ")\n",
        "display(df_fields)"
      ],
      "cell_type": "code",
      "outputs": [],
      "execution_count": null
    },
    {
      "metadata": {},
      "source": [
        "### Logical operators"
      ],
      "cell_type": "markdown"
    },
    {
      "metadata": {},
      "source": [
        "For more complex conditions *IBM SMF Explorer* has three logical expressions:\n",
        "\n",
        "Expression| Description\n",
        ":---|:---\n",
        " ``&`` | Logical AND\n",
        "``\\|`` | Logical OR\n",
        " ``~`` | Logical NOT"
      ],
      "cell_type": "markdown"
    },
    {
      "metadata": {},
      "source": [
        "Chaining multiple `where()` calls is equivalent to a logical **and**.\n",
        "\n",
        "Below, we are fetching instances **where** LPAR name is identical to system name **and** the LPAR CPU count is larger than 5.  "
      ],
      "cell_type": "markdown"
    },
    {
      "metadata": {},
      "source": [
        "# use chainging of where()\n",
        "ctx.samples.lpar_information().where(SMF70S1.lpar_name == SMF70S1.system_name).where(\n",
        "    SMF70S1.lpar_cpu_count > 5\n",
        ").run()"
      ],
      "cell_type": "code",
      "outputs": [],
      "execution_count": null
    },
    {
      "metadata": {},
      "source": [
        "# use AND expression instead of where() chainging\n",
        "ctx.samples.lpar_information().where(\n",
        "    (SMF70S1.lpar_name == SMF70S1.system_name) & (SMF70S1.lpar_cpu_count > 5)\n",
        ").run()"
      ],
      "cell_type": "code",
      "outputs": [],
      "execution_count": null
    },
    {
      "metadata": {},
      "source": [
        "The following example shows the usage of the logical **or** expression."
      ],
      "cell_type": "markdown"
    },
    {
      "metadata": {},
      "source": [
        "ctx.samples.lpar_information().where(\n",
        "    (SMF70S1.lpar_cpu_count == 5) | (SMF70S1.lpar_cpu_count == 6)\n",
        ").run()"
      ],
      "cell_type": "code",
      "outputs": [],
      "execution_count": null
    },
    {
      "metadata": {},
      "source": [
        "## Sorting\n",
        "\n",
        "For sorting purposes, *IBM SMF Explorer* uses the chain method `sort()`, which takes any number of sort expressions.\n",
        "A sort expression is created with the help of `ASC` and `DESC` functions from the `smfexplorer` module.\n",
        "`ASC` and `DESC` tell  *IBM SMF Explorer* to sort a given field in ascending or descending order respectively.\n",
        "The sorting importance is driven by the order of sort expressions given to `sort()` (i.e., the first expression is the most important).\n",
        "The default sort order, when nothing has been explicitly specified, is `ASC`.\n",
        " *IBM SMF Explorer* sorts some fields (e.g., timestamp) by default.\n",
        "Any sorting condition that you specify, has a higher priority than the default behaviour."
      ],
      "cell_type": "markdown"
    },
    {
      "metadata": {},
      "source": [
        "from smfexplorer import ASC, DESC\n",
        "\n",
        "# sort from the lowest value to the highest value\n",
        "# head() function prints first 5 rows of the table\n",
        "display(ctx.samples.lpar_information().sort(ASC(SMF70S1.lpar_cpu_count)).run().head())\n",
        "\n",
        "# sort from the highest value to the lowest value\n",
        "display(ctx.samples.lpar_information().sort(DESC(SMF70S1.lpar_cpu_count)).run().head())\n",
        "\n",
        "# sort from the highest value to the lowest value\n",
        "display(\n",
        "    ctx.samples.lpar_information()\n",
        "    .sort(ASC(SMF70S1.lpar_cpu_count), DESC(SMF70S1.lpar_number))\n",
        "    .run()\n",
        "    .head()\n",
        ")"
      ],
      "cell_type": "code",
      "outputs": [],
      "execution_count": null
    }
  ]
}
