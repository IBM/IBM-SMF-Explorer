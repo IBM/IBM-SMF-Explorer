{
  "nbformat": 4,
  "nbformat_minor": 5,
  "metadata": {
    "kernelspec": {
      "display_name": "Python 3 (ipykernel)",
      "language": "python",
      "name": "python3"
    }
  },
  "cells": [
    {
      "metadata": {},
      "source": [
        "# Tutorial 3 - Working with Data\n",
        "\n",
        "This tutorial provides examples on how to work with the pandas DataFrames returned by *IBM SMF Explorer*. \n",
        "\n",
        "## Working with data in Python\n",
        "\n",
        "After data is fetched, you can process it with the help of python libraries. Consider importing the ```pandas``` package.\n",
        "\n",
        "To get started you can refer to:\n",
        "\n",
        "- [pandas documentation](https://pandas.pydata.org/docs/)\n",
        "- [Pandas Tutorial: DataFrames in Python](https://www.datacamp.com/community/tutorials/pandas-tutorial-dataframe-python)\n",
        "\n",
        "Below we provide a couple of examples that will help you to get started.\n"
      ],
      "cell_type": "markdown"
    },
    {
      "metadata": {},
      "source": [
        "# import pandas\n",
        "import pandas as pd\n",
        "\n",
        "\n",
        "# create a df\n",
        "data = {\n",
        "    \"Timestamp\": [\n",
        "        \"2022-01-01 12:00:00\",\n",
        "        \"2022-01-01 12:05:00\",\n",
        "        \"2022-01-01 12:10:00\",\n",
        "        \"2022-02-01 12:15:00\",\n",
        "        \"2022-01-01 12:00:00\",\n",
        "    ],\n",
        "    \"SID\": [\"SYSA\", \"SYSA\", \"SYSA\", \"SYSA\", \"SYSB\"],\n",
        "    \"sys_utilization\": [50, 55, 53, 70, 10],\n",
        "    \"sys_utilization2\": [50, 55, 53, 70, 10],\n",
        "}\n",
        "\n",
        "df = pd.DataFrame(data)\n",
        "\n",
        "# convert timestamp column to a date-time format.\n",
        "# Important: timestamp column generated with IBM SMF Explorer is already in the right format.\n",
        "df[\"Timestamp\"] = pd.to_datetime(df[\"Timestamp\"])\n",
        "\n",
        "df"
      ],
      "cell_type": "code",
      "outputs": [],
      "execution_count": null
    },
    {
      "metadata": {},
      "source": [
        "### Columns\n",
        "if you want to rename one or multiple columns, you may use the [```rename()```function](https://pandas.pydata.org/docs/reference/api/pandas.DataFrame.rename.html)"
      ],
      "cell_type": "markdown"
    },
    {
      "metadata": {},
      "source": [
        "df = df.rename(columns={\"SID\": \"system\"})\n",
        "df"
      ],
      "cell_type": "code",
      "outputs": [],
      "execution_count": null
    },
    {
      "metadata": {},
      "source": [
        "if you want to remove columns from the DataFrame, you can refer to the [```drop()``` function](https://pandas.pydata.org/docs/reference/api/pandas.DataFrame.drop.html):"
      ],
      "cell_type": "markdown"
    },
    {
      "metadata": {},
      "source": [
        "df = df.drop(columns=[\"sys_utilization2\"])\n",
        "df"
      ],
      "cell_type": "code",
      "outputs": [],
      "execution_count": null
    },
    {
      "metadata": {},
      "source": [
        "### Time filtering\n",
        "\n",
        "To filter by date you may use the DataFrame [```loc``` property](https://pandas.pydata.org/docs/reference/api/pandas.DataFrame.loc.html):"
      ],
      "cell_type": "markdown"
    },
    {
      "metadata": {},
      "source": [
        "# filter out '2022-02-01'\n",
        "df_date = df.loc[df[\"Timestamp\"] < \"2022-02-01\"]\n",
        "display(df_date)\n",
        "\n",
        "# filter out date range\n",
        "df_date_range = df.loc[\n",
        "    (df[\"Timestamp\"] > \"2022-01-01 12:05\") & (df[\"Timestamp\"] < \"2022-02-01\")\n",
        "]\n",
        "display(df_date_range)"
      ],
      "cell_type": "code",
      "outputs": [],
      "execution_count": null
    },
    {
      "metadata": {},
      "source": [
        "### Data filtering\n",
        "\n",
        "You can filter data either with the help of the DataFrame ```loc``` property as shown above, or you may consider the following methods:"
      ],
      "cell_type": "markdown"
    },
    {
      "metadata": {},
      "source": [
        "# query()\n",
        "display(df.query('system == \"SYSA\" & sys_utilization > 50'))\n",
        "\n",
        "# df filtering\n",
        "display(df[(df[\"system\"] == \"SYSA\") & (df[\"sys_utilization\"] > 50)])"
      ],
      "cell_type": "code",
      "outputs": [],
      "execution_count": null
    },
    {
      "metadata": {},
      "source": [
        "## The *IBM SMF Explorer* names() Function\n",
        "\n",
        "*IBM SMF Explorer* provides the `names()` function to help with pandas interaction.\n",
        "The example below shows how you can use this helper to access only specific fields from the DataFrame.\n",
        "\n",
        "But first, we need to create a Context and import ```names```.\n",
        "\n"
      ],
      "cell_type": "markdown"
    },
    {
      "metadata": {},
      "source": [
        "import smfexplorer\n",
        "from datetime import datetime, time\n",
        "from smfexplorer.fields import SMF70S1\n",
        "from smfexplorer import names\n",
        "\n",
        "DATASET = \"YOUR.SMF.DATA\"\n",
        "\n",
        "ctx = smfexplorer.new_context(DATASET)"
      ],
      "cell_type": "code",
      "outputs": [],
      "execution_count": null
    },
    {
      "metadata": {},
      "source": [
        "df = ctx.samples.lpar_information().run()\n",
        "\n",
        "# create a subset of data\n",
        "lpar_count = df[\n",
        "    names(SMF70S1.timestamp, SMF70S1.lpar_system_name, SMF70S1.lpar_cpu_count)\n",
        "]\n",
        "lpar_count"
      ],
      "cell_type": "code",
      "outputs": [],
      "execution_count": null
    },
    {
      "metadata": {},
      "source": [
        "The call above is equivalent to the following call, but allows the code to be clearer about the intention.\n",
        "In addition the `names()` function allows the code to be consistent and work in future releases."
      ],
      "cell_type": "markdown"
    },
    {
      "metadata": {},
      "source": [
        "lpar_count_without_names = df[[\"timestamp\", \"lpar_system_name\", \"lpar_cpu_count\"]]\n",
        "lpar_count_without_names"
      ],
      "cell_type": "code",
      "outputs": [],
      "execution_count": null
    },
    {
      "metadata": {},
      "source": [
        "One important thing to know about the `names()` function is that it behaves differently when only one argument is given.\n",
        "If you just pass one field argument, `names()` returns a string with the name in it.\n",
        "In all other cases, it returns a list of strings.\n",
        "\n",
        "The example below demonstrates what that means for pandas."
      ],
      "cell_type": "markdown"
    },
    {
      "metadata": {},
      "source": [
        "# generates series\n",
        "lpar_cpu = df[names(SMF70S1.lpar_cpu_count)]\n",
        "# generates DataFrame\n",
        "lpar_cpu2 = df[names([SMF70S1.lpar_cpu_count])]\n",
        "\n",
        "print(type(lpar_cpu))\n",
        "print(type(lpar_cpu2))"
      ],
      "cell_type": "code",
      "outputs": [],
      "execution_count": null
    },
    {
      "metadata": {},
      "source": [
        "When executing the cell above you should see that pandas creates a Series instead of a DataFrame if it is called with just one field.\n",
        "If you want to force `names()` to return a list you can give it a list of fields with just one entry(see `lpar_cpu2`).\n",
        "This difference is something you need to be aware of when using the `names()` function."
      ],
      "cell_type": "markdown"
    },
    {
      "metadata": {},
      "source": [
        "###  Pandas and *IBM SMF Explorer* Examples\n",
        "\n",
        "The `names()` function allows you to use pandas in a very straightforward way.\n",
        "\n",
        "In this section, you will find some examples on both pandas and *IBM SMF Explorer*."
      ],
      "cell_type": "markdown"
    },
    {
      "metadata": {},
      "source": [
        "# Get all Systems included in the dump\n",
        "\n",
        "systems = df[names(SMF70S1.sid)].unique()\n",
        "\n",
        "print(systems.tolist())"
      ],
      "cell_type": "code",
      "outputs": [],
      "execution_count": null
    },
    {
      "metadata": {},
      "source": [
        "# Get the average of LPAR CPU Count per LPAR\n",
        "df_avg = df.groupby(by=names(SMF70S1.lpar_system_name), dropna=True).mean(\n",
        "    numeric_only=True\n",
        ")\n",
        "display(df_avg)\n",
        "\n",
        "# get the average of LPAR CPU Count\n",
        "avg = df_avg[names(SMF70S1.lpar_cpu_count)].mean()\n",
        "print(\"Average LPAR CPU count is \", avg)"
      ],
      "cell_type": "code",
      "outputs": [],
      "execution_count": null
    },
    {
      "metadata": {},
      "source": [
        "## How IBM SMF Explorer represents data\n",
        "\n",
        "As you have seen, IBM SMF Explorer returns data as tables.\n",
        "This means that SMF Explorer flattend the original SMF structure into entries in those tables.\n",
        "\n",
        "If you have installed [Graphviz](https://graphviz.org/) during setup, you can use the `graph()` function on a request to get a visual representation of the SMF structure.\n",
        "\n",
        "The following example will show the structure for the fields of the `lpar_information()` sample (If you don't have graphviz installed take a look at **Tutorial 3 Screenshot 1.png**):\n",
        "\n",
        "- **Octagon(3x)**: The SMF record\n",
        "- **Octagon(2x)**: A map/section in the record with relation to the parent\n",
        "- **Note**: List of fields without children\n",
        "- **Oval**: Field with at least one child element\n",
        "    - **Blue Oval**: Virtual field"
      ],
      "cell_type": "markdown"
    },
    {
      "metadata": {},
      "source": [
        "# If graphviz is available, this will show the structure of the request.\n",
        "ctx.samples.lpar_information().graph()"
      ],
      "cell_type": "code",
      "outputs": [],
      "execution_count": null
    },
    {
      "metadata": {},
      "source": [
        "In the example above you can see that the section `SMF70BCT` has a one-to-many relationship with the SMF 70 subtype 1 record.\n",
        "When SMF Explorer encounters a one-to-many relationship, it does a _Outer Left Join_ for that section.\n",
        "For the example SMF Explorer creates one entry in the resulting table for each `SMF70BCT` section.\n",
        "\n",
        "If you want to identify the section/record an entry in the table belongs to, SMF Explorer can insert index columns into the result.\n",
        "This can be done by adding `indices=True` to the `run()` function or explicitly requesting the index fields:"
      ],
      "cell_type": "markdown"
    },
    {
      "metadata": {},
      "source": [
        "# Request LPAR information with all index fields\n",
        "ctx.samples.lpar_information().run(indices=True)\n",
        "\n",
        "# This would result in the same table as the above call but explicitly adds the index fields.\n",
        "# ctx.samples.lpar_information().run(display=[SMF70S1.record.index, SMF70S1.SMF70BCT.index])"
      ],
      "cell_type": "code",
      "outputs": [],
      "execution_count": null
    },
    {
      "metadata": {},
      "source": [
        "As you can see in the example above the returned table has two additional columns (`smf07001_index` and `smf07001_smf70bct_index`).\n",
        "Depending on your systems LPAR structure, you will see that there are multiple entries with `smf07001_index` equal to 1.\n",
        "This is what we expected as there are multiple `SMF70BCT` sections for each record.\n",
        "\n",
        "Index fields can be used like any other field.\n",
        "This means you can use them in `names()`, for sorting, or filtering.\n",
        "As the LPAR information rarely changes from one record to the other let us limit the request to just the first record."
      ],
      "cell_type": "markdown"
    },
    {
      "metadata": {},
      "source": [
        "# Just request the first record\n",
        "ctx.samples.lpar_information().where(SMF70S1.record.index == 1).run(indices=True)"
      ],
      "cell_type": "code",
      "outputs": [],
      "execution_count": null
    },
    {
      "metadata": {},
      "source": [
        "Because of the _Outer Left Join_ behavior of SMF Explorer, there are some limitations you need to be aware of.\n",
        "Fetching fields from a few sections at the same time is usually not an issue for SMF Explorer.\n",
        "If to many sections with one-to-many relationships are requested the amount of entries returned can exceed the available memory(RAM) on your workstation.\n",
        "\n",
        "> **The Problem**\n",
        "> Some SMF sections can have more than 100 entries per record and the amount if entries in the result is the prodcut of the number of records and sections per record.\n",
        "> If you try to fetch all fields from SMF 70 subtype 1 for example, the number of resulting entries can quickly exceed 10 million.\n",
        "> Not only can you reach the limit of your worstation but the data that would be returned is highly redundant.\n",
        ">\n",
        "> Currently SMF Explorer has no mechanism to prevent you from fetching to much data and might get stuck/slow if your workstation runs out of memory.\n",
        "\n",
        "To prevent you from running out of memory and to make processing of the fetched data easier, you should follow some rules:\n",
        "- Try not to fetch to many fields from sections with one-to-many relationships\n",
        "- Use the `graph()` function or the provided _Mappings_ documentation for information on the SMF sections.\n",
        "- Use multiple requests to fetch data from different sections and use pandas and python to combine the data.\n",
        "- **!!** Never try to fetch all fields of a SMF type without knowing the structure if that record **!!**\n"
      ],
      "cell_type": "markdown"
    }
  ]
}
