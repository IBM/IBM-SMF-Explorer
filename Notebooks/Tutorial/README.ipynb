{
  "nbformat": 4,
  "nbformat_minor": 5,
  "metadata": {
    "kernelspec": {
      "display_name": "Python 3 (ipykernel)",
      "language": "python",
      "name": "python3"
    }
  },
  "cells": [
    {
      "metadata": {},
      "source": [
        "# Welcome to the *IBM SMF Explorer* Tutorials!\n",
        "\n",
        "The Tutorials are split into different sections each with its own notebook.\n",
        "\n",
        "- **Tutorial 1 - Basics:** SMF data fetching and core package functionality. \n",
        "- **Tutorial 2 - Filtering and Sorting:** data reduction, filtering, and sorting using the build-in expression language.\n",
        "- **Tutorial 3 - Working with the data:** data processing with *IBM SMF Explorer* and Pandas.\n",
        "- **Tutorial 4 - Visualization:**  data visualization using plotly.\n",
        "- **Tutorial 5 - Interactive Notebooks (Advanced):** creating interactive Notebooks.\n",
        "\n",
        "All tutorials have cells containing code in them.\n",
        "When you come across such a code cell you should execute it by selecting it and pressing `Ctrl`+`Enter`.\n",
        "If you ever face issues you can reset the current Notebook with the _'Reset the kernel'_ button in the task bar above.\n",
        "\n",
        "### What SMF data to use?\n",
        "\n",
        "In the tutorials you will often find the code line `DATASET = \"YOUR.SMF.DATA\"`.\n",
        "You should replace `YOUR.SMF.DATA` with a data set you have access to. The tutorials make use of SMF types 70 and 72.\n",
        "Note that, escpecially for **Tutorial 2**, you will find operations that are dependent on the data you use.\n",
        "Feel free to change the code, but keep in mind that other parts of the tutorial might be affected.\n",
        "\n",
        "If you have never worked with Jupyter Notebooks or Python, before exploring the Tutorials, have a look into the following resources:\n",
        "- [The Jupyter Notebook Introduction](https://jupyter-notebook.readthedocs.io/en/stable/notebook.html)\n",
        "- [JupyterLab Documentation](https://jupyterlab.readthedocs.io/en/stable/)\n",
        "- [Python](https://www.learnpython.org)\n",
        "\n",
        "### Resources for data analysis\n",
        "- [pandas documentation](https://pandas.pydata.org/docs/)\n",
        "- [Pandas Tutorial: DataFrames in Python](https://www.datacamp.com/community/tutorials/pandas-tutorial-dataframe-python)\n",
        "- [numpy documentation](https://numpy.org/doc/stable/)\n",
        "\n"
      ],
      "cell_type": "markdown"
    }
  ]
}
