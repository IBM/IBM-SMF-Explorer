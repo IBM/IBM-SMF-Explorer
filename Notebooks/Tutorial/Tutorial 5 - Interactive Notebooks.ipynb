{
  "nbformat": 4,
  "nbformat_minor": 5,
  "metadata": {
    "kernelspec": {
      "display_name": "Python 3 (ipykernel)",
      "language": "python",
      "name": "python3"
    }
  },
  "cells": [
    {
      "metadata": {},
      "source": [
        "# Tutorial 5 - Interactive Notebooks (Advanced)\n",
        "\n",
        "Welcome to the _Interactive Notebooks Tutorial_.\n",
        "You will learn how to create clean Notebooks that allow users to interact with the data with the help of various widgets. \n",
        "In this tutorial, we provide examples on how to initialize multiple datasets, how the user can select the system or date from SMF data and get the Notebook updated automatically without rerunning it.\n",
        "\n",
        "To start, you may refer to [ipywidgets documentation](https://ipywidgets.readthedocs.io/en/latest/).\n",
        "\n",
        "## Dataset(s) Initialization\n",
        "\n",
        "For a graphical interface, you need to import the ``smfexplorer.util.jupyter`` module and create an instance of the ``ConfigWidget`` class, providing a **Context** as an argument.\n",
        "After the  ConfigWidget was created, you can display it by calling the IPython ``display()`` function.\n",
        "> **Note**: You can specify a dataset as an argument in the ``new_context()`` function. This will make the text field of the ConfigWidget contain the predefined dataset name. "
      ],
      "cell_type": "markdown"
    },
    {
      "metadata": {},
      "source": [
        "import smfexplorer\n",
        "from smfexplorer.fields import SMF70S1\n",
        "from smfexplorer import names\n",
        "from smfexplorer.util import jupyter\n",
        "\n",
        "# text field with predefined dataset name\n",
        "# ctx = smfexplorer.new_context('YOUR.SMF.DATA')\n",
        "\n",
        "ctx = smfexplorer.new_context()\n",
        "config_widget = jupyter.ConfigWidget(ctx)\n",
        "display(config_widget)"
      ],
      "cell_type": "code",
      "outputs": [],
      "execution_count": null
    },
    {
      "metadata": {},
      "source": [
        "> **Hint:** In some cases you may want to work with multiple datasets. For example, in one Notebook you want to analyse LPAR utilization from  \"*YOUR.SMF.SMF70*\"  and Cache-Hits from \"*YOUR.SMF.HIS*\".  To do so, you can assign both datasets to one context, separating them with a comma \u2018,\u2019 (e.g., ``YOUR.SMF.SMF70,YOUR.SMF.HIS``). When you create a request, *IBM SMF Explorer* fetches the data for all specified datasets and concatenates the results. "
      ],
      "cell_type": "markdown"
    },
    {
      "metadata": {},
      "source": [
        "To make the user-provided dataset available to the next cell, you need to do the following:\n",
        " * Reference widget instance with ``@`` and call ``register_output()`` function that automatically reruns the cell when the dataset instance was changed\n",
        " * Create a function that takes as an argument dsn (this is our dataset instance)\n",
        " \n",
        "------\n",
        "Let's give it a try!\n",
        "\n",
        "Enter a dataset name into the textfield above and press the **Init** button.\n",
        "The `ConfigWidget` will automatically check the specified dataset for availability and call the `give_me_dsn()` function when a user presses `Init`.\n",
        " \n",
        "As you see, the output of the cell below is changed when the dataset name is changed. "
      ],
      "cell_type": "markdown"
    },
    {
      "metadata": {},
      "source": [
        "@config_widget.register_output()\n",
        "def give_me_dsn(dsn, **kwds):\n",
        "    print(dsn)"
      ],
      "cell_type": "code",
      "outputs": [],
      "execution_count": null
    },
    {
      "metadata": {},
      "source": [
        "You have seen how we can create a **Context** instance and let the user interactively define the datasets for that **Context**. \n",
        "However, we know that having dataset names is not enough.\n",
        "We want to create a request and fetch a DataFrame. \n",
        "Therefore, we define another function that executes a request and returns the fetched DataFrame. \n",
        "\n",
        "The `name` argument in ``@config_widget.register_output(name=\"df\")`` denotes that the function returns the DataFrame as the name **df**.\n",
        "We will see why this is useful in the next cell."
      ],
      "cell_type": "markdown"
    },
    {
      "metadata": {},
      "source": [
        "@config_widget.register_output(name=\"df\")\n",
        "def fetch_df(dsn, **kwds):\n",
        "    df = ctx.samples.lpar_information().run()\n",
        "    return df"
      ],
      "cell_type": "code",
      "outputs": [],
      "execution_count": null
    },
    {
      "metadata": {},
      "source": [
        "To make use of our  **df** DataFrame, we can register the next function not with `config_widget` but with `fetch_df` (the function defined above).\n",
        "\n",
        "Now, we can see what the `name` argument from `fetch_df` does.\n",
        "By default, *IBM SMF Explorer* uses the function `name` as the name for the parameter that we want to pass down the chain.\n",
        "The `name` argument makes  *IBM SMF Explorer* change `fetch_df` to `df` in `working_with_df`.\n",
        "\n",
        "This kind of chaining can be repeated with `working_with_df` and any subsequent registered function.\n",
        "This allows you to define a flow of operations that should be triggered when the user presses **Init**."
      ],
      "cell_type": "markdown"
    },
    {
      "metadata": {},
      "source": [
        "@fetch_df.register_output()\n",
        "def working_with_df(df, **kwds):\n",
        "    display(df.head())"
      ],
      "cell_type": "code",
      "outputs": [],
      "execution_count": null
    },
    {
      "metadata": {},
      "source": [
        "You can see that `working_with_df` was able to render the DataFrame by calling the `display()` function.\n",
        "This is the case, because `register_output` was used.\n",
        "If you have a function that you know will not display anything to the Notebook, you can use the `register` function instead.\n",
        "\n",
        "> **Note**: `register_output` creates an `Output` widget that can be dynamically updated.\n",
        "> Every time a function that is registered with `register_output` is called, the `Output` widget is cleared and repopulated with the input given to the `display()` function."
      ],
      "cell_type": "markdown"
    },
    {
      "metadata": {},
      "source": [
        "## Creating Widgets\n",
        "\n",
        "Just having the initial dataframe passed down the chain is a good start.\n",
        "To be fully interactive, we sometimes need to react to specifics in the fetched data and ask the user for additional input to provide a useful output.\n",
        "The following example shows  how to use IPyWidgets together with *IBM SMF Explorer*'s interactive features.\n",
        "\n",
        "When we are working with SMF data, we often notice that one dataset can contain information from multiple systems/dates/LPARS.\n",
        "To minimize data and ease processing, it makes sense to provide filters or selectors that allow the user to select a subset of the data. \n",
        "\n",
        "Consider the following widgets:\n",
        "\n",
        " * FloatSlider\n",
        " * IntProgress\n",
        " * FloatText\n",
        " * ToggleButton\n",
        " * Checkbox\n",
        " * Dropdown\n",
        "\n",
        "See [here](https://ipywidgets.readthedocs.io/en/stable/examples/Widget%20List.html) for more information\n",
        " \n",
        "\n",
        "We start by importing ``ipywidgets``.\n",
        "The next step is to create the widget instance (in our case _ToggleButtons_).\n",
        "\n",
        "We can now add our widget to `register_output`.\n",
        "This will result in any function that registers against `select_name` to be called with the value of the widget whenever the DataFrame changes or the user changes the selection of the widget."
      ],
      "cell_type": "markdown"
    },
    {
      "metadata": {},
      "source": [
        "import ipywidgets as widgets\n",
        "\n",
        "selection_widget = widgets.ToggleButtons()\n",
        "\n",
        "\n",
        "@fetch_df.register_output(name=\"df\", name_selected=selection_widget)\n",
        "def select_name(df, **kwds):\n",
        "\n",
        "    lpar_system_name = df[names(SMF70S1.lpar_system_name)].unique().dropna()\n",
        "    selection_widget.options = lpar_system_name\n",
        "\n",
        "    display(selection_widget)\n",
        "\n",
        "    selection_widget.value = lpar_system_name[0]\n",
        "\n",
        "    return df"
      ],
      "cell_type": "code",
      "outputs": [],
      "execution_count": null
    },
    {
      "metadata": {},
      "source": [
        "@select_name.register_output()\n",
        "def filter_df(df, name_selected, **kwds):\n",
        "\n",
        "    # The best practice is to guard against calls, where df is None or to check the input for validity in general.\n",
        "    # Returning early from the function will clear the output.\n",
        "    if df is None:\n",
        "        return\n",
        "    print(\"Selected LPAR-system name is: \" + name_selected)\n",
        "    df = df[df[names(SMF70S1.lpar_system_name)] == name_selected].reset_index(drop=True)\n",
        "    display(df.head())"
      ],
      "cell_type": "code",
      "outputs": [],
      "execution_count": null
    },
    {
      "metadata": {},
      "source": [
        "If you select another LPAR-system name from the selection, you should see that the table above is redrawn.\n",
        "Or if you change the dataset name in the very beginning and press *Init* again the entire output will be redrawn.\n",
        "\n",
        "> **Note**: Getting interactive Notebooks right can be very challenging. We advise you to first implement a normal sequential Notebook without widgets that you can later convert into an interactive one. The logic for desired output in every situation can be very complex (e.g. Filtering for exception cases: what happens if the specified dataset does not contain the necessary data?)."
      ],
      "cell_type": "markdown"
    }
  ]
}
