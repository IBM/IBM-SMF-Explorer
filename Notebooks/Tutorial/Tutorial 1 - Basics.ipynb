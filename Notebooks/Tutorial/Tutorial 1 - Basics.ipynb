{
  "nbformat": 4,
  "nbformat_minor": 4,
  "metadata": {
    "kernelspec": {
      "display_name": "Python 3 (ipykernel)",
      "language": "python",
      "name": "python3"
    }
  },
  "cells": [
    {
      "metadata": {},
      "source": [
        "# Tutorial 1 - Basics\n",
        "\n",
        "Welcome to the  *IBM SMF Explorer* Basics Tutorial.\n",
        "You will learn how to get started with the *IBM SMF Explorer* framework and access SMF data.\n",
        "\n",
        "The tutorial has cells containing code. When you come across such a code cell you should execute it by selecting it and pressing ``Ctrl``+``Enter``.\n",
        "Feel free to change the code, but keep in mind that other parts of the tutorial might be affected. \n"
      ],
      "cell_type": "markdown"
    },
    {
      "metadata": {},
      "source": [
        "## Getting started\n",
        "\n",
        "To start working with the *IBM SMF Explorer*, you need to import the ``smfexplorer`` package:"
      ],
      "cell_type": "markdown"
    },
    {
      "metadata": {},
      "source": [
        "import smfexplorer"
      ],
      "cell_type": "code",
      "outputs": [],
      "execution_count": null
    },
    {
      "metadata": {},
      "source": [
        "This tutorial was created for *SMF Explorer* version **1.0.0**.\n",
        "To check the version, execute the following command: ``smfexplorer.__version__``."
      ],
      "cell_type": "markdown"
    },
    {
      "metadata": {},
      "source": [
        "smfexplorer.__version__"
      ],
      "cell_type": "code",
      "outputs": [],
      "execution_count": null
    },
    {
      "metadata": {},
      "source": [
        "All requests in the *SMF Explorer* are managed by an object called a **Context**.\n",
        "A Context represents a connection to one or multiple SMF dumps/datasets and manages the state of all requests dispatched against it.\n",
        "Creating separate contexts allows you to run the same requests against different SMF dumps in an easy manner.\n",
        "\n",
        "The Context can be created by calling the ``new_context()`` function of the ``smfexplorer`` module.\n",
        "If multiple datasets are defined (i.e., provided as arguments to the ``new_context()``), the *SMF Explorer* will execute requests against all of them and concatenate the data in the order the names were specified.\n",
        "\n",
        "To separately fetch the data from different datasets, you can create as many Context objects as you like. \n",
        "\n",
        "> **Note**: if you are working with two or more datasets that were created as a result of the dump-dataset switch (i.e., one dataset is a continuation of another), we recommend assigning these datasets to one Context. \n",
        "If you want to work with datasets that contain different SMF records, we advise creation of multiple Contexts for better performance.   "
      ],
      "cell_type": "markdown"
    },
    {
      "metadata": {},
      "source": [
        "DATASET = \"YOUR.SMF.DATA\"\n",
        "ctx = smfexplorer.new_context(DATASET)\n",
        "\n",
        "# Multiple datasets assigned to one Context instance:\n",
        "# ctx2 = smfexplorer.new_context('YOUR.SMF.DATA1','YOUR.SMF.DATA2')"
      ],
      "cell_type": "code",
      "outputs": [],
      "execution_count": null
    },
    {
      "metadata": {},
      "source": [
        "*IBM SMF Explorer* provides utility functions that can help you to understand your input dataset. \n",
        "\n",
        "You can check if a dataset is available:"
      ],
      "cell_type": "markdown"
    },
    {
      "metadata": {},
      "source": [
        "print(smfexplorer.check_dataset(DATASET))\n",
        "print(smfexplorer.check_dataset(\"WRONG.SMF.DATA\"))"
      ],
      "cell_type": "code",
      "outputs": [],
      "execution_count": null
    },
    {
      "metadata": {},
      "source": [
        "You can fetch a list of SMF types/subtypes available in your SMF dataset using ```get_available_records()```function. \n",
        "\n",
        "To get the list of types you can run ```get_available_types()``` function and for subtypes - ```get_available_subtypes()```."
      ],
      "cell_type": "markdown"
    },
    {
      "metadata": {},
      "source": [
        "# get available types\n",
        "ctx.get_available_types()"
      ],
      "cell_type": "code",
      "outputs": [],
      "execution_count": null
    },
    {
      "metadata": {},
      "source": [
        "# get available subtypes for the SMF type 71\n",
        "ctx.get_available_subtypes(70)"
      ],
      "cell_type": "code",
      "outputs": [],
      "execution_count": null
    },
    {
      "metadata": {},
      "source": [
        "# get a complete SMF record overview\n",
        "ctx.get_available_records()"
      ],
      "cell_type": "code",
      "outputs": [],
      "execution_count": null
    },
    {
      "metadata": {},
      "source": [
        "## Fetching Data\n",
        "\n",
        "The standard way to fetch the data using the *IBM SMF Explorer* is by defining the list of SMF fields you want to request.\n",
        "Therefore, the Framework provides you with predefined definitions for many SMF fields.\n",
        "To access those definitions you need to import them from the ``smfexplorer.fields`` module.\n",
        "Fields are defined in classes that correspond to the SMF type and subtype.\n",
        "\n",
        "\n",
        "In the following example, we import all fields for the SMF type 70 subtype 1 record.\n",
        "\n",
        "> **Note**: the following naming scheme: SMF**XX**S**Y**, where *XX* represents record type and *Y* its subtype "
      ],
      "cell_type": "markdown"
    },
    {
      "metadata": {},
      "source": [
        "from smfexplorer.fields import SMF70S1"
      ],
      "cell_type": "code",
      "outputs": [],
      "execution_count": null
    },
    {
      "metadata": {},
      "source": [
        "After importing from the fields module, you can access SMF field documentation by pressing ``shift``+``tab``.\n",
        "To test this out for the field ``lpar_name``, just place the cursor behind the ``SMF70S1.lpar_name`` line below and press the key combination.\n",
        "Alternatively, you can use the ipython **?** syntax to get help."
      ],
      "cell_type": "markdown"
    },
    {
      "metadata": {},
      "source": [
        "# select this cell and press shift+tab to see the documentation\n",
        "SMF70S1.lpar_busy"
      ],
      "cell_type": "code",
      "outputs": [],
      "execution_count": null
    },
    {
      "metadata": {},
      "source": [
        "?SMF70S1.lpar_name"
      ],
      "cell_type": "code",
      "outputs": [],
      "execution_count": null
    },
    {
      "metadata": {},
      "source": [
        "Such information is provided on each field.\n",
        "Feel free to have a look into the properties available.\n",
        "\n",
        "To make working with SMF data easier, additional **virtual fields** are provided.\n",
        "Virtual fields are derived from the SMF fields by the *IBM SMF Explorer*.\n",
        "For example, the ``ziip_boost`` field shows whether zIIP Boost was active."
      ],
      "cell_type": "markdown"
    },
    {
      "metadata": {},
      "source": [
        "The virtual field ``ziip_boost`` uses  ``fla``(SMF70FLA) field to extract the information."
      ],
      "cell_type": "markdown"
    },
    {
      "metadata": {},
      "source": [
        "?SMF70S1.ziip_boost"
      ],
      "cell_type": "code",
      "outputs": [],
      "execution_count": null
    },
    {
      "metadata": {},
      "source": [
        "### Request() Method"
      ],
      "cell_type": "markdown"
    },
    {
      "metadata": {},
      "source": [
        "To use the field definitions for data fetching, you can use the ``request()`` method of a Context.\n",
        "You need to provide an array of fields you would like to request.\n",
        "To trigger the request call ``.run()``.\n",
        "When the request succeeds, it returns a pandas DataFrame."
      ],
      "cell_type": "markdown"
    },
    {
      "metadata": {},
      "source": [
        "ctx.request(\n",
        "    [\n",
        "        SMF70S1.timestamp,\n",
        "        SMF70S1.sid,\n",
        "        SMF70S1.lpar_name,\n",
        "        SMF70S1.system_name,\n",
        "        SMF70S1.sysplex_name,\n",
        "        SMF70S1.lpar_system_name,\n",
        "        SMF70S1.lpar_number,\n",
        "        SMF70S1.lpar_cpu_count,\n",
        "    ]\n",
        ").run()"
      ],
      "cell_type": "code",
      "outputs": [],
      "execution_count": null
    },
    {
      "metadata": {},
      "source": [
        "The *IBM SMF Explorer* is a Fluent-API.\n",
        "That means you chain methods together to configure a request.\n",
        "You have seen the most basic form of such a chain: ``request().run()``. The ``request()`` method can start a chain and the ``run()`` method ends it.\n",
        "You will learn about other methods that can be used in the chain later and in other tutorials.\n",
        "\n",
        "Note, that you cannot combine fields arbitrarily in a request.\n",
        "Not all fields are compatible, because they may originate from different structures and cannot be displayed in a single table in a logical/useful way.\n",
        "\n",
        "The following request, for example, tries to combine SMF 70 Subtype 1 and SMF 72 Subtype 3 data into one table and **throws an exception**.\n",
        "In general, you cannot combine fields of different record types.\n",
        "\n",
        "**WARNING**: the following code causes an error"
      ],
      "cell_type": "markdown"
    },
    {
      "metadata": {},
      "source": [
        "from smfexplorer.fields import SMF72S3\n",
        "\n",
        "ctx.request([SMF70S1.timestamp, SMF70S1.sid, SMF72S3.utilization_total]).run()"
      ],
      "cell_type": "code",
      "outputs": [],
      "execution_count": null
    },
    {
      "metadata": {},
      "source": [
        "#### Raw fields\n",
        "\n",
        "The *IBM SMF Explorer* applies different transformations to the raw SMF data before returning it to the user.\n",
        "Sometimes you might want to disable the post-processing of some fields to get the original values.\n",
        "\n",
        "You can use the `raw` property of each field to see raw SMF values.\n",
        "What `raw` returns depends on the type of the field.\n",
        "For normal fields, post-processing is disabled.\n",
        "For virtual fields, the raw value of the source field will be returned.\n",
        "\n",
        "In the example below, you can see how `raw` fetches the `class_goal_type` value without the *IBM SMF Explorer* post-processing."
      ],
      "cell_type": "markdown"
    },
    {
      "metadata": {},
      "source": [
        "ctx.request(\n",
        "    [\n",
        "        SMF72S3.timestamp,\n",
        "        SMF72S3.sid,\n",
        "        SMF72S3.class_name,\n",
        "        SMF72S3.class_period,\n",
        "        SMF72S3.class_goal_type,\n",
        "        SMF72S3.class_goal_type.raw,\n",
        "    ]\n",
        ").run()"
      ],
      "cell_type": "code",
      "outputs": [],
      "execution_count": null
    },
    {
      "metadata": {},
      "source": [
        "### Using Sample Requests\n",
        "To make common tasks easier, *IBM SMF Explorer* comes with a collection of predefined requests.\n",
        "The data can be fetched from related fields without listing them individually.\n",
        "These requests can be found in the ``samples`` property of any context.\n",
        "In other tutorials, you will be shown how to create and register your own samples.\n",
        "\n",
        "To fetch the same information as above (i.e., in the first successful ``ctx.request()`` call), we can use the ``lpar_information()`` sample request."
      ],
      "cell_type": "markdown"
    },
    {
      "metadata": {},
      "source": [
        "ctx.samples.lpar_information().run()"
      ],
      "cell_type": "code",
      "outputs": [],
      "execution_count": null
    },
    {
      "metadata": {},
      "source": [
        "To fetch additional fields together with a sample, the ``run()`` method has a named parameter called ``display``.\n",
        "You can provide an array of fields to this parameter just like in the ``request()`` method."
      ],
      "cell_type": "markdown"
    },
    {
      "metadata": {},
      "source": [
        "ctx.samples.lpar_information().run(display=[SMF70S1.capactiy_group_name])"
      ],
      "cell_type": "code",
      "outputs": [],
      "execution_count": null
    },
    {
      "metadata": {},
      "source": [
        "# Some available Samples\n",
        "\n",
        "## Samples for SMF70S1:\n",
        "\n",
        "``lpar_information()`` --  fields from SMF70S1 on LPARs\n",
        "\n",
        "``processor_information()`` --  fields from SMF70S1 on processors\n",
        "\n",
        "## Samples for SMF72S3:\n",
        "\n",
        "``smf_72_03_sample()`` -- fields for SMF72 subtype 3 analysis\n",
        "\n",
        "\n",
        "## Samples for SMF99S1:\n",
        "    \n",
        "``p_utilization()`` --  CP, zIIP, zAAP and total utilization\n",
        "    \n",
        "``rg_capping()`` -- Resource Group and Tenant Resource Group capping information\n",
        "    \n",
        "``smf_99_01_sample()`` --  commonly used SMF 99 subtype 1 data\n",
        "\n",
        "\n",
        "## Samples for SMF99S2:\n",
        " \n",
        "\n",
        "``srv_service()`` -- service Class service consumption for CP, zIIP and zAAP\n",
        "\n",
        "``smf_99_02_sample()`` -- commonly used SMF 99 Subtype 2 data\n",
        "\n",
        "## Samples for SMF99S12:\n",
        "\n",
        "``hiper_dispatch()`` -- hiper dispatch information per processor type\n",
        "\n",
        "## Samples for SMF99S14:\n",
        "\n",
        "``topology()`` -- topology information per processor\n"
      ],
      "cell_type": "markdown"
    }
  ]
}
